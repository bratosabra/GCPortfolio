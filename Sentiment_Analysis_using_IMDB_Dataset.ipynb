{
  "nbformat": 4,
  "nbformat_minor": 0,
  "metadata": {
    "colab": {
      "provenance": []
    },
    "kernelspec": {
      "name": "python3",
      "display_name": "Python 3"
    },
    "language_info": {
      "name": "python"
    }
  },
  "cells": [
    {
      "cell_type": "code",
      "execution_count": null,
      "metadata": {
        "colab": {
          "base_uri": "https://localhost:8080/"
        },
        "id": "Yw4CZwYEoF81",
        "outputId": "c886b96f-b88e-483a-e66b-32cd7df68b87"
      },
      "outputs": [
        {
          "output_type": "stream",
          "name": "stdout",
          "text": [
            "Загрузка данных...\n",
            "Размер обучающих данных: (25000, 200)\n",
            "Размер тестовых данных: (25000, 200)\n",
            "Обучение модели...\n",
            "Epoch 1/3\n",
            "\u001b[1m204/782\u001b[0m \u001b[32m━━━━━\u001b[0m\u001b[37m━━━━━━━━━━━━━━━\u001b[0m \u001b[1m1:38\u001b[0m 171ms/step - accuracy: 0.6260 - loss: 0.6364"
          ]
        }
      ],
      "source": [
        "# Импортируем необходимые библиотеки\n",
        "import tensorflow as tf\n",
        "from tensorflow.keras.datasets import imdb\n",
        "from tensorflow.keras.preprocessing import sequence\n",
        "import matplotlib.pyplot as plt\n",
        "\n",
        "# Шаг 1: Загрузка готового датасета IMDB\n",
        "# Датасет содержит отзывы о фильмах и метки (0 - негативный, 1 - позитивный)\n",
        "max_features = 10000  # Количество слов для анализа\n",
        "max_len = 200  # Ограничение длины текста\n",
        "\n",
        "print(\"Загрузка данных...\")\n",
        "(x_train, y_train), (x_test, y_test) = imdb.load_data(num_words=max_features)\n",
        "\n",
        "# Шаг 2: Подготовка данных (padding)\n",
        "x_train = sequence.pad_sequences(x_train, maxlen=max_len)\n",
        "x_test = sequence.pad_sequences(x_test, maxlen=max_len)\n",
        "\n",
        "print(\"Размер обучающих данных:\", x_train.shape)\n",
        "print(\"Размер тестовых данных:\", x_test.shape)\n",
        "\n",
        "# Шаг 3: Создание модели нейронной сети\n",
        "model = tf.keras.Sequential([\n",
        "    tf.keras.layers.Embedding(max_features, 128, input_length=max_len),  # Векторное представление слов\n",
        "    tf.keras.layers.LSTM(64, dropout=0.2, recurrent_dropout=0.2),  # Рекуррентный слой LSTM\n",
        "    tf.keras.layers.Dense(1, activation='sigmoid')  # Слой для классификации\n",
        "])\n",
        "\n",
        "# Компиляция модели\n",
        "model.compile(loss='binary_crossentropy',\n",
        "              optimizer='adam',\n",
        "              metrics=['accuracy'])\n",
        "\n",
        "# Шаг 4: Обучение модели\n",
        "print(\"Обучение модели...\")\n",
        "history = model.fit(x_train, y_train,\n",
        "                    batch_size=32,\n",
        "                    epochs=3,\n",
        "                    validation_data=(x_test, y_test))\n",
        "\n",
        "# Шаг 5: Оценка модели\n",
        "print(\"\\nОценка модели на тестовых данных:\")\n",
        "score = model.evaluate(x_test, y_test, batch_size=32)\n",
        "print(\"Точность на тестовых данных:\", score[1])\n",
        "\n",
        "# Шаг 6: Визуализация обучения\n",
        "plt.plot(history.history['accuracy'], label='Train Accuracy')\n",
        "plt.plot(history.history['val_accuracy'], label='Validation Accuracy')\n",
        "plt.xlabel('Epoch')\n",
        "plt.ylabel('Accuracy')\n",
        "plt.legend()\n",
        "plt.title('Training and Validation Accuracy')\n",
        "plt.show()\n",
        "\n",
        "# Шаг 7: Предсказание тональности текста\n",
        "# Функция для предсказания тональности на простом тексте\n",
        "word_index = imdb.get_word_index()\n",
        "\n",
        "def encode_text(text):\n",
        "    words = text.lower().split()\n",
        "    encoded = [word_index.get(word, 0) for word in words]\n",
        "    return sequence.pad_sequences([encoded], maxlen=max_len)\n",
        "\n",
        "def predict_sentiment(text):\n",
        "    encoded_text = encode_text(text)\n",
        "    prediction = model.predict(encoded_text)[0][0]\n",
        "    return \"Positive\" if prediction > 0.5 else \"Negative\"\n",
        "\n",
        "# Пример ввода\n",
        "print(\"\\nВведите текст для анализа тональности:\")\n",
        "user_input = input()\n",
        "print(\"Результат анализа:\", predict_sentiment(user_input))\n"
      ]
    }
  ]
}